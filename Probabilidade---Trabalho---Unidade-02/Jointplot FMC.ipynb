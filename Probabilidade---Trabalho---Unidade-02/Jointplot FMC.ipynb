{
 "cells": [
  {
   "cell_type": "markdown",
   "metadata": {},
   "source": [
    "## Componentes\n",
    "    Gleydvan Macedo\n",
    "    João Vítor Venceslau Coelho\n",
    "    \n",
    "## Professor\n",
    "    Ivanovitch Medeiros Dantas da Silva\n",
    "    \n",
    "## Descrição II\n",
    "Fazer um gráfico onde o eixo X são as médias dos alunos que cursaram a disciplina FMC I e o eixo Y as médias dos alunos que cursaram FMC II para toda a série histórica presente em dados.ufrn.br\n"
   ]
  },
  {
   "cell_type": "code",
   "execution_count": 1,
   "metadata": {
    "collapsed": true
   },
   "outputs": [],
   "source": [
    "# Importando alguns módulos importantes\n",
    "import pandas as pd\n",
    "import matplotlib.pyplot as plt\n",
    "import seaborn as sns"
   ]
  },
  {
   "cell_type": "code",
   "execution_count": 2,
   "metadata": {
    "collapsed": true
   },
   "outputs": [],
   "source": [
    "# Lendo os arquivos com os dados a serem analisados\n",
    "matriculas_fmc1 = pd.read_csv(\"matriculas_fmc1.csv\", sep = \";\")\n",
    "matriculas_fmc2 = pd.read_csv(\"matriculas_fmc2.csv\", sep = \";\")"
   ]
  },
  {
   "cell_type": "code",
   "execution_count": 3,
   "metadata": {
    "collapsed": true
   },
   "outputs": [],
   "source": [
    "# Função que simplifica o dataset informado\n",
    "# Excluindo alguns dados não interessantes e deixando apenas as colunas interessantes\n",
    "def simplifica_dataset ( data_set ):\n",
    "    data_set = data_set[data_set[\"descricao\"] != \"EXCLUIDA\"]\n",
    "    data_set = data_set[data_set[\"descricao\"] != \"CANCELADO\"]\n",
    "    data_set = data_set[data_set[\"descricao\"] != \"TRANCADO\"]\n",
    "    data_set = data_set[data_set[\"descricao\"] != \"DESISTENCIA\"]\n",
    "    data_set = data_set[data_set[\"descricao\"] != \"INDEFERIDO\"]\n",
    "    data_set = data_set[[\"discente\",\"descricao\",\"unidade\", \"media_final\"]]\n",
    "    data_set = data_set.dropna()\n",
    "    return data_set\n",
    "\n",
    "# Simplificando os três datasets trabalhados\n",
    "matriculas_fmc1 = simplifica_dataset( matriculas_fmc1 )\n",
    "matriculas_fmc2 = simplifica_dataset( matriculas_fmc2 )"
   ]
  },
  {
   "cell_type": "code",
   "execution_count": 4,
   "metadata": {
    "collapsed": true
   },
   "outputs": [],
   "source": [
    "# Retirando informações repetidas baseando-se na unidade 1\n",
    "fmc1 = matriculas_fmc1[matriculas_fmc1[\"unidade\"] == 1]\n",
    "fmc2 = matriculas_fmc2[matriculas_fmc2[\"unidade\"] == 1]\n",
    "\n",
    "# Removendo coluna que não é mais útil\n",
    "fmc1 = fmc1.drop(\"unidade\", axis = 1)\n",
    "fmc2 = fmc2.drop(\"unidade\", axis = 1)"
   ]
  },
  {
   "cell_type": "code",
   "execution_count": 5,
   "metadata": {
    "collapsed": true
   },
   "outputs": [],
   "source": [
    "# Removendo dados que não são interessantes no dataset de FMC1\n",
    "fmc1 = fmc1[fmc1[\"descricao\"] != \"REPROVADO\"]\n",
    "fmc1 = fmc1[fmc1[\"descricao\"] != \"REPROVADO POR MÉDIA E POR FALTAS\"]\n",
    "fmc1 = fmc1[fmc1[\"descricao\"] != \"REPROVADO POR NOTA\"]\n",
    "fmc1 = fmc1[fmc1[\"descricao\"] != \"REPROVADO POR FALTAS\"]"
   ]
  },
  {
   "cell_type": "code",
   "execution_count": 6,
   "metadata": {
    "collapsed": true
   },
   "outputs": [],
   "source": [
    "## Analisando quais os alunos que já cursaram as duas disciplinas\n",
    "\n",
    "lista_discentes_em_comum = []\n",
    "for discente in fmc1[\"discente\"]:\n",
    "    for discente2 in fmc2[\"discente\"]:\n",
    "        if ( discente == discente2 ):\n",
    "            lista_discentes_em_comum.append( discente )\n",
    "        \n",
    "# Dataframe auxiliar para remover as duplicatas\n",
    "aux = pd.DataFrame()\n",
    "aux[\"discentes_em_comum\"] = lista_discentes_em_comum\n",
    "aux = aux.drop_duplicates()\n",
    "aux = aux.reset_index()\n",
    "aux = aux.drop(\"index\", axis = 1)\n",
    "\n",
    "# Criando uma lista baseada em FMC1 com os alunos que passaram em FMC1 e tentaram FMC2\n",
    "lista_discentes_fmc1 = []\n",
    "for discente in aux[\"discentes_em_comum\"] :\n",
    "    lista_discentes_fmc1.append( fmc1[fmc1[\"discente\"] == discente ] )\n",
    "    \n",
    "# Criando uma lista baseada em FMC2 com os alunos que passaram em FMC1 e tentaram FMC2\n",
    "lista_discentes_fmc2 = []\n",
    "for discente in aux[\"discentes_em_comum\"] :\n",
    "    lista_discentes_fmc2.append( fmc2[fmc2[\"discente\"] == discente ] )    \n",
    "\n",
    "# Juntando os dados coletados nas duas listas em dois dataframes, um sobre FMC1 e outro sobre FMC2\n",
    "data_frame1 = pd.concat( lista_discentes_fmc1, ignore_index=True )\n",
    "data_frame2 = pd.concat( lista_discentes_fmc2, ignore_index=True )\n"
   ]
  },
  {
   "cell_type": "code",
   "execution_count": 7,
   "metadata": {
    "collapsed": true
   },
   "outputs": [],
   "source": [
    "# Resetando o index dos dois dataframes\n",
    "data_frame1 = data_frame1.reset_index()\n",
    "data_frame1 = data_frame1.drop(\"index\", axis = 1)\n",
    "\n",
    "data_frame2 = data_frame2.reset_index()\n",
    "data_frame2 = data_frame2.drop(\"index\", axis = 1)"
   ]
  },
  {
   "cell_type": "code",
   "execution_count": 8,
   "metadata": {
    "collapsed": true
   },
   "outputs": [],
   "source": [
    "# Função que remove os alunos que tentaram mais de uma vez passar em FMC2\n",
    "# Mantém apenas a tentativa com a maior nota na média final\n",
    "# Uma única chamada da função não consegue remover todas as repetições\n",
    "# pois compara apenas com os dados vizinhos ( posterior ), logo se um aluno pagou várias é necessário]\n",
    "# chamar a função novamente\n",
    "\n",
    "# O motivo de comparar apenas com o valor posterior é diminuir a complexidade da função e agilizá-la,\n",
    "# pois se compararmos com todos os elementos do dataset em busca das repetições e depois compararmos \n",
    "# qual é a maior média final, a complexidade ficaria muito grande e a função lenta, afinal são muitos dados...\n",
    "def remove_repetidos_menor_nota( target ):\n",
    "    linhas_apagar = []\n",
    "    for linha in range(len(target)-1):\n",
    "        if target.loc[linha][\"discente\"] == target.loc[linha+1][\"discente\"]:\n",
    "            if target.loc[linha][\"media_final\"] > target.loc[linha+1][\"media_final\"]:\n",
    "                linhas_apagar.append( linha+1 )\n",
    "            else:\n",
    "                linhas_apagar.append( linha )\n",
    "\n",
    "    test = pd.DataFrame()\n",
    "    test[\"apagar\"] = linhas_apagar\n",
    "    test = test.drop_duplicates()\n",
    "    for i in test[\"apagar\"]:\n",
    "        target = target.drop(i)\n",
    "        \n",
    "    target = target.reset_index()\n",
    "    target = target.drop(\"index\", axis = 1)\n",
    "    \n",
    "    return target"
   ]
  },
  {
   "cell_type": "code",
   "execution_count": 9,
   "metadata": {
    "collapsed": true,
    "scrolled": true
   },
   "outputs": [],
   "source": [
    "# Chamando a função de remover repetidos no dataframe2 ( FMC2 )\n",
    "data_frame2 = remove_repetidos_menor_nota( data_frame2 )\n",
    "data_frame2 = remove_repetidos_menor_nota( data_frame2 )\n",
    "data_frame2 = remove_repetidos_menor_nota( data_frame2 )"
   ]
  },
  {
   "cell_type": "code",
   "execution_count": 10,
   "metadata": {
    "collapsed": true
   },
   "outputs": [],
   "source": [
    "# Criando um dataframe contendo os valores coletados nos dois dataframes ( FMC1 e FMC2 )\n",
    "# Com os dados já organizados e prontos para serem plotados\n",
    "jointplot = pd.DataFrame()\n",
    "jointplot[\"FMCI_Discente\"] = data_frame1[\"discente\"]\n",
    "jointplot[\"FMCI_Media\"] = data_frame1[\"media_final\"]\n",
    "jointplot[\"FMCII_Discente\"] = data_frame2[\"discente\"]\n",
    "jointplot[\"FMCII_Media\"] = data_frame2[\"media_final\"]"
   ]
  },
  {
   "cell_type": "code",
   "execution_count": 11,
   "metadata": {},
   "outputs": [
    {
     "data": {
      "text/plain": [
       "[]"
      ]
     },
     "execution_count": 11,
     "metadata": {},
     "output_type": "execute_result"
    }
   ],
   "source": [
    "# Realizando uma última verificação em busca de valores que não batem ( isto é discentes diferentes na mesma linha )\n",
    "achei = []\n",
    "for linha in range(len(jointplot)):\n",
    "    if jointplot.loc[linha][\"FMCI_Discente\"] != jointplot.loc[linha][\"FMCII_Discente\"]:\n",
    "        achei.append(linha)\n",
    "# Imprimindo alunos em posição errada\n",
    "achei"
   ]
  },
  {
   "cell_type": "code",
   "execution_count": 12,
   "metadata": {},
   "outputs": [
    {
     "data": {
      "image/png": "[encoded data removed]",
      "text/plain": [
       "<matplotlib.figure.Figure at 0x7fafd5e00f98>"
      ]
     },
     "metadata": {},
     "output_type": "display_data"
    }
   ],
   "source": [
    "# Finalmente plotando o gráfico com as médias dos alunos de FMC1 que passaram e tentaram FMC2\n",
    "sns.jointplot(x=jointplot[\"FMCI_Media\"], y=jointplot[\"FMCII_Media\"])\n",
    "plt.show()"
   ]
  },
  {
   "cell_type": "code",
   "execution_count": null,
   "metadata": {
    "collapsed": true
   },
   "outputs": [],
   "source": []
  }
 ],
 "metadata": {
  "kernelspec": {
   "display_name": "Python 3",
   "language": "python",
   "name": "python3"
  },
  "language_info": {
   "codemirror_mode": {
    "name": "ipython",
    "version": 3
   },
   "file_extension": ".py",
   "mimetype": "text/x-python",
   "name": "python",
   "nbconvert_exporter": "python",
   "pygments_lexer": "ipython3",
   "version": "3.6.1"
  }
 },
 "nbformat": 4,
 "nbformat_minor": 2
}
