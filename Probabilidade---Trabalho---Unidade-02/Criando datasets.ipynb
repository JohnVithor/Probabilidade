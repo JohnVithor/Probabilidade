{
 "cells": [
  {
   "cell_type": "markdown",
   "metadata": {
    "collapsed": true
   },
   "source": [
    "## Componentes\n",
    "    Gleydvan Macedo\n",
    "    João Vítor Venceslau Coelho\n",
    "    \n",
    "## Professor\n",
    "    Ivanovitch Medeiros Dantas da Silva\n",
    "    \n",
    "### Preparação\n",
    "Utilizando os dados disponibilizados em dados.ufrn.br, criaremos alguns datasets com os dados apenas das disciplinas:\n",
    "    \n",
    "    IMD0028 - FUNDAMENTOS MATEMÁTICOS DA COMPUTAÇÃO I\n",
    "    IMD0038 - FUNDAMENTOS MATEMÁTICOS DA COMPUTAÇÃO II\n",
    "    IMD0033 - PROBABILIDADE"
   ]
  },
  {
   "cell_type": "code",
   "execution_count": 1,
   "metadata": {
    "collapsed": true
   },
   "outputs": [],
   "source": [
    "# Importando módulo importante\n",
    "import pandas as pd"
   ]
  },
  {
   "cell_type": "code",
   "execution_count": 2,
   "metadata": {
    "collapsed": true
   },
   "outputs": [],
   "source": [
    "# Lendo csv que contem os dados a serem analisados\n",
    "comp_curric_presen = pd.read_csv(\"data_sets/componentes-curriculares-presenciais.csv\", sep = \";\")"
   ]
  },
  {
   "cell_type": "code",
   "execution_count": 11,
   "metadata": {},
   "outputs": [
    {
     "data": {
      "text/html": [
       "<div>\n",
       "<style>\n",
       "    .dataframe thead tr:only-child th {\n",
       "        text-align: right;\n",
       "    }\n",
       "\n",
       "    .dataframe thead th {\n",
       "        text-align: left;\n",
       "    }\n",
       "\n",
       "    .dataframe tbody tr th {\n",
       "        vertical-align: top;\n",
       "    }\n",
       "</style>\n",
       "<table border=\"1\" class=\"dataframe\">\n",
       "  <thead>\n",
       "    <tr style=\"text-align: right;\">\n",
       "      <th></th>\n",
       "      <th>id_componente</th>\n",
       "      <th>nome</th>\n",
       "    </tr>\n",
       "  </thead>\n",
       "  <tbody>\n",
       "    <tr>\n",
       "      <th>18272</th>\n",
       "      <td>52427</td>\n",
       "      <td>FERRAMENTAS PARA AUTOMAÇÃO DE TESTES</td>\n",
       "    </tr>\n",
       "    <tr>\n",
       "      <th>20538</th>\n",
       "      <td>55022</td>\n",
       "      <td>FUNDAMENTOS MATEMÁTICOS DA COMPUTAÇÃO I</td>\n",
       "    </tr>\n",
       "  </tbody>\n",
       "</table>\n",
       "</div>"
      ],
      "text/plain": [
       "       id_componente                                     nome\n",
       "18272          52427     FERRAMENTAS PARA AUTOMAÇÃO DE TESTES\n",
       "20538          55022  FUNDAMENTOS MATEMÁTICOS DA COMPUTAÇÃO I"
      ]
     },
     "execution_count": 11,
     "metadata": {},
     "output_type": "execute_result"
    }
   ],
   "source": [
    "# Buscando código de FMC1\n",
    "comp_curric_fmc1 = comp_curric_presen[comp_curric_presen[\"codigo\"].str.contains(\"IMD0028\")]\n",
    "comp_curric_fmc1 = comp_curric_fmc1[[\"id_componente\",\"nome\"]]\n",
    "comp_curric_fmc1"
   ]
  },
  {
   "cell_type": "code",
   "execution_count": 14,
   "metadata": {
    "scrolled": true
   },
   "outputs": [
    {
     "data": {
      "text/html": [
       "<div>\n",
       "<style>\n",
       "    .dataframe thead tr:only-child th {\n",
       "        text-align: right;\n",
       "    }\n",
       "\n",
       "    .dataframe thead th {\n",
       "        text-align: left;\n",
       "    }\n",
       "\n",
       "    .dataframe tbody tr th {\n",
       "        vertical-align: top;\n",
       "    }\n",
       "</style>\n",
       "<table border=\"1\" class=\"dataframe\">\n",
       "  <thead>\n",
       "    <tr style=\"text-align: right;\">\n",
       "      <th></th>\n",
       "      <th>id_componente</th>\n",
       "      <th>nome</th>\n",
       "    </tr>\n",
       "  </thead>\n",
       "  <tbody>\n",
       "    <tr>\n",
       "      <th>20541</th>\n",
       "      <td>55025</td>\n",
       "      <td>FUNDAMENTOS MATEMÁTICOS DA COMPUTAÇÃO II</td>\n",
       "    </tr>\n",
       "    <tr>\n",
       "      <th>23450</th>\n",
       "      <td>58356</td>\n",
       "      <td>DESENVOLVIMENTO PARA DISPOSITIVOS MÓVEIS V (HT...</td>\n",
       "    </tr>\n",
       "  </tbody>\n",
       "</table>\n",
       "</div>"
      ],
      "text/plain": [
       "       id_componente                                               nome\n",
       "20541          55025           FUNDAMENTOS MATEMÁTICOS DA COMPUTAÇÃO II\n",
       "23450          58356  DESENVOLVIMENTO PARA DISPOSITIVOS MÓVEIS V (HT..."
      ]
     },
     "execution_count": 14,
     "metadata": {},
     "output_type": "execute_result"
    }
   ],
   "source": [
    "# Buscando código de FMC2\n",
    "comp_curric_fmc2 = comp_curric_presen[comp_curric_presen[\"codigo\"].str.contains(\"IMD0038\")]\n",
    "comp_curric_fmc2 = comp_curric_fmc2[[\"id_componente\",\"nome\"]]\n",
    "comp_curric_fmc2"
   ]
  },
  {
   "cell_type": "code",
   "execution_count": 13,
   "metadata": {},
   "outputs": [
    {
     "data": {
      "text/html": [
       "<div>\n",
       "<style>\n",
       "    .dataframe thead tr:only-child th {\n",
       "        text-align: right;\n",
       "    }\n",
       "\n",
       "    .dataframe thead th {\n",
       "        text-align: left;\n",
       "    }\n",
       "\n",
       "    .dataframe tbody tr th {\n",
       "        vertical-align: top;\n",
       "    }\n",
       "</style>\n",
       "<table border=\"1\" class=\"dataframe\">\n",
       "  <thead>\n",
       "    <tr style=\"text-align: right;\">\n",
       "      <th></th>\n",
       "      <th>id_componente</th>\n",
       "      <th>nome</th>\n",
       "    </tr>\n",
       "  </thead>\n",
       "  <tbody>\n",
       "    <tr>\n",
       "      <th>18507</th>\n",
       "      <td>52664</td>\n",
       "      <td>PROBABILIDADE</td>\n",
       "    </tr>\n",
       "    <tr>\n",
       "      <th>23445</th>\n",
       "      <td>58351</td>\n",
       "      <td>DESENVOLVIMENTO PARA DISPOSITIVOS MÓVEIS II (A...</td>\n",
       "    </tr>\n",
       "  </tbody>\n",
       "</table>\n",
       "</div>"
      ],
      "text/plain": [
       "       id_componente                                               nome\n",
       "18507          52664                                      PROBABILIDADE\n",
       "23445          58351  DESENVOLVIMENTO PARA DISPOSITIVOS MÓVEIS II (A..."
      ]
     },
     "execution_count": 13,
     "metadata": {},
     "output_type": "execute_result"
    }
   ],
   "source": [
    "# Buscando código de Probabilidade\n",
    "comp_curric_prob = comp_curric_presen[comp_curric_presen[\"codigo\"].str.contains(\"IMD0033\")]\n",
    "comp_curric_prob = comp_curric_prob[[\"id_componente\",\"nome\"]]\n",
    "comp_curric_prob"
   ]
  },
  {
   "cell_type": "code",
   "execution_count": 15,
   "metadata": {
    "collapsed": true
   },
   "outputs": [],
   "source": [
    "# Função que extrai uma lista com listas contendo o id do componente curricular informado em cada um dos datasets\n",
    "# com as turmas desde 2010.1 até 2017.1 ( 2017.2 foi retirado pois ainda não acabou... )\n",
    "def extract_id_comp_curr ( cod_componente ):\n",
    "    data_sets_turmas = [\"data_sets/turmas-2010.1.csv\", \"data_sets/turmas-2010.2.csv\",\n",
    "                        \"data_sets/turmas-2011.1.csv\", \"data_sets/turmas-2011.2.csv\",\n",
    "                        \"data_sets/turmas-2012.1.csv\", \"data_sets/turmas-2012.2.csv\",\n",
    "                        \"data_sets/turmas-2013.1.csv\", \"data_sets/turmas-2013.2.csv\",\n",
    "                        \"data_sets/turmas-2014.1.csv\", \"data_sets/turmas-2014.2.csv\",\n",
    "                        \"data_sets/turmas-2015.1.csv\", \"data_sets/turmas-2015.2.csv\",\n",
    "                        \"data_sets/turmas-2016.1.csv\", \"data_sets/turmas-2016.2.csv\",\n",
    "                        \"data_sets/turmas-2017.1.csv\"]#, \"data_sets/turmas-2017.2.csv\"]\n",
    "    id_turmas = []\n",
    "    \n",
    "    for i in range( len( data_sets_turmas ) ):\n",
    "        aux = pd.read_csv( data_sets_turmas[i], sep = \";\" )\n",
    "        aux = aux[ aux[ \"id_componente_curricular\" ] == cod_componente ]\n",
    "        temp = []\n",
    "        for i in aux[\"id_turma\"]:\n",
    "            temp.append( int(i) )\n",
    "        id_turmas.append( temp )\n",
    "        \n",
    "    return id_turmas"
   ]
  },
  {
   "cell_type": "code",
   "execution_count": 20,
   "metadata": {
    "collapsed": true
   },
   "outputs": [],
   "source": [
    "# Chamando a função extract_id_comp_curr para os valores encontrados no inicio do notebook\n",
    "id_turmas_fmc1 = extract_id_comp_curr( 55022 )\n",
    "id_turmas_fmc2 = extract_id_comp_curr( 55025 )\n",
    "id_turmas_prob = extract_id_comp_curr( 52664 )"
   ]
  },
  {
   "cell_type": "code",
   "execution_count": 22,
   "metadata": {
    "collapsed": true
   },
   "outputs": [],
   "source": [
    "# Função que extrai uma lista com os datasets com os dados relativos\n",
    "# aos códigos na lista de listas de códigos informada\n",
    "def extract_data_sets_turmas( lista_turmas ):\n",
    "    data_sets_matriculas = [\"data_sets/matricula-componente-20101.csv\", \"data_sets/matricula-componente-20102.csv\",\n",
    "                            \"data_sets/matricula-componente-20111.csv\", \"data_sets/matricula-componente-20112.csv\",\n",
    "                            \"data_sets/matricula-componente-20121.csv\", \"data_sets/matricula-componente-20122.csv\",\n",
    "                            \"data_sets/matricula-componente-20131.csv\", \"data_sets/matricula-componente-20132.csv\",\n",
    "                            \"data_sets/matricula-componente-20141.csv\", \"data_sets/matricula-componente-20142.csv\",\n",
    "                            \"data_sets/matricula-componente-20151.csv\", \"data_sets/matricula-componente-20152.csv\",\n",
    "                            \"data_sets/matricula-componente-20161.csv\", \"data_sets/matricula-componente-20162.csv\",\n",
    "                            \"data_sets/matricula-componente-20171.csv\"]#, \"data_sets/matricula-componente-20172.csv\"]\n",
    "    data_sets = []\n",
    "    for i in range( len( data_sets_matriculas ) ):\n",
    "        aux = pd.read_csv( data_sets_matriculas[i], sep = \";\" )\n",
    "        for j in range( len( lista_turmas[i] ) ):\n",
    "            temp = aux[aux[\"id_turma\"] == lista_turmas[i][j] ]\n",
    "            data_sets.append( temp )\n",
    "            \n",
    "    return data_sets"
   ]
  },
  {
   "cell_type": "code",
   "execution_count": 23,
   "metadata": {
    "collapsed": true
   },
   "outputs": [],
   "source": [
    "# Extraindo os datasets... Pode demorar um pouco...\n",
    "data_sets_matriculas_fmc1 = extract_data_sets_turmas( id_turmas_fmc1 )"
   ]
  },
  {
   "cell_type": "code",
   "execution_count": 24,
   "metadata": {
    "collapsed": true
   },
   "outputs": [],
   "source": [
    "# Extraindo os datasets... Pode demorar um pouco...\n",
    "data_sets_matriculas_fmc2 = extract_data_sets_turmas( id_turmas_fmc2 )"
   ]
  },
  {
   "cell_type": "code",
   "execution_count": 25,
   "metadata": {
    "collapsed": true
   },
   "outputs": [],
   "source": [
    "# Extraindo os datasets... Pode demorar um pouco...\n",
    "data_sets_matriculas_prob = extract_data_sets_turmas( id_turmas_prob )"
   ]
  },
  {
   "cell_type": "code",
   "execution_count": null,
   "metadata": {
    "collapsed": true,
    "scrolled": true
   },
   "outputs": [],
   "source": [
    "# Juntando todos os datasets da lista obtida nas chamadas da função extract_data_sets_turmas\n",
    "# em 3 datasets, matriculas_fmc1, matriculas_fmc2, matriculas_prob\n",
    "matriculas_fmc1 = pd.concat( data_sets_matriculas_fmc1, ignore_index=True )\n",
    "matriculas_fmc2 = pd.concat( data_sets_matriculas_fmc2, ignore_index=True )\n",
    "matriculas_prob = pd.concat( data_sets_matriculas_prob, ignore_index=True )\n",
    "\n",
    "# Removendo coluna criada durante a concatenação dos datasets da lista\n",
    "matriculas_fmc1 = matriculas_fmc1.drop( \"Unnamed: 10\", axis = 1)\n",
    "matriculas_fmc2 = matriculas_fmc2.drop( \"Unnamed: 10\", axis = 1)\n",
    "matriculas_prob = matriculas_prob.drop( \"Unnamed: 10\", axis = 1)"
   ]
  },
  {
   "cell_type": "code",
   "execution_count": null,
   "metadata": {
    "collapsed": true
   },
   "outputs": [],
   "source": [
    "# Salvando datasets criados em csv para uso em outros notebooks... esse aqui já tá meio grande...\n",
    "matriculas_fmc1.to_csv(path_or_buf=\"matriculas_fmc1.csv\", sep = \";\")\n",
    "matriculas_fmc2.to_csv(path_or_buf=\"matriculas_fmc2.csv\", sep = \";\")\n",
    "matriculas_prob.to_csv(path_or_buf=\"matriculas_prob.csv\", sep = \";\")"
   ]
  },
  {
   "cell_type": "code",
   "execution_count": null,
   "metadata": {
    "collapsed": true
   },
   "outputs": [],
   "source": []
  }
 ],
 "metadata": {
  "kernelspec": {
   "display_name": "Python 3",
   "language": "python",
   "name": "python3"
  },
  "language_info": {
   "codemirror_mode": {
    "name": "ipython",
    "version": 3
   },
   "file_extension": ".py",
   "mimetype": "text/x-python",
   "name": "python",
   "nbconvert_exporter": "python",
   "pygments_lexer": "ipython3",
   "version": "3.6.1"
  }
 },
 "nbformat": 4,
 "nbformat_minor": 2
}
